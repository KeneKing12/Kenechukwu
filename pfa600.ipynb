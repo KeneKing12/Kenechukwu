{
  "nbformat": 4,
  "nbformat_minor": 0,
  "metadata": {
    "colab": {
      "provenance": [],
      "authorship_tag": "ABX9TyOwW6VT9ToD1ekV7UxOfRPn",
      "include_colab_link": true
    },
    "kernelspec": {
      "name": "python3",
      "display_name": "Python 3"
    },
    "language_info": {
      "name": "python"
    }
  },
  "cells": [
    {
      "cell_type": "markdown",
      "metadata": {
        "id": "view-in-github",
        "colab_type": "text"
      },
      "source": [
        "<a href=\"https://colab.research.google.com/github/KeneKing12/Kenechukwu/blob/main/pfa600.ipynb\" target=\"_parent\"><img src=\"https://colab.research.google.com/assets/colab-badge.svg\" alt=\"Open In Colab\"/></a>"
      ]
    },
    {
      "cell_type": "code",
      "execution_count": null,
      "metadata": {
        "colab": {
          "base_uri": "https://localhost:8080/",
          "height": 384
        },
        "id": "TSo7WYssYLQj",
        "outputId": "fb9f6650-b1c6-42d4-9d31-3eadd090f264"
      },
      "outputs": [
        {
          "output_type": "error",
          "ename": "ModuleNotFoundError",
          "evalue": "No module named 'pymodbus'",
          "traceback": [
            "\u001b[0;31m---------------------------------------------------------------------------\u001b[0m",
            "\u001b[0;31mModuleNotFoundError\u001b[0m                       Traceback (most recent call last)",
            "\u001b[0;32m<ipython-input-1-0d54b0224412>\u001b[0m in \u001b[0;36m<cell line: 3>\u001b[0;34m()\u001b[0m\n\u001b[1;32m      1\u001b[0m \u001b[0;32mimport\u001b[0m \u001b[0mjson\u001b[0m\u001b[0;34m\u001b[0m\u001b[0;34m\u001b[0m\u001b[0m\n\u001b[1;32m      2\u001b[0m \u001b[0;32mimport\u001b[0m \u001b[0mpandas\u001b[0m \u001b[0;32mas\u001b[0m \u001b[0mpd\u001b[0m\u001b[0;34m\u001b[0m\u001b[0;34m\u001b[0m\u001b[0m\n\u001b[0;32m----> 3\u001b[0;31m \u001b[0;32mfrom\u001b[0m \u001b[0mpymodbus\u001b[0m\u001b[0;34m.\u001b[0m\u001b[0mclient\u001b[0m \u001b[0;32mimport\u001b[0m \u001b[0mModbusTcpClient\u001b[0m\u001b[0;34m\u001b[0m\u001b[0;34m\u001b[0m\u001b[0m\n\u001b[0m\u001b[1;32m      4\u001b[0m \u001b[0;32mfrom\u001b[0m \u001b[0mpymodbus\u001b[0m\u001b[0;34m.\u001b[0m\u001b[0mexceptions\u001b[0m \u001b[0;32mimport\u001b[0m \u001b[0mModbusException\u001b[0m\u001b[0;34m\u001b[0m\u001b[0;34m\u001b[0m\u001b[0m\n\u001b[1;32m      5\u001b[0m \u001b[0;32mimport\u001b[0m \u001b[0mtime\u001b[0m\u001b[0;34m\u001b[0m\u001b[0;34m\u001b[0m\u001b[0m\n",
            "\u001b[0;31mModuleNotFoundError\u001b[0m: No module named 'pymodbus'",
            "",
            "\u001b[0;31m---------------------------------------------------------------------------\u001b[0;32m\nNOTE: If your import is failing due to a missing package, you can\nmanually install dependencies using either !pip or !apt.\n\nTo view examples of installing some common dependencies, click the\n\"Open Examples\" button below.\n\u001b[0;31m---------------------------------------------------------------------------\u001b[0m\n"
          ],
          "errorDetails": {
            "actions": [
              {
                "action": "open_url",
                "actionText": "Open Examples",
                "url": "/notebooks/snippets/importing_libraries.ipynb"
              }
            ]
          }
        }
      ],
      "source": [
        "import json\n",
        "import pandas as pd\n",
        "from pymodbus.client import ModbusTcpClient\n",
        "from pymodbus.exceptions import ModbusException\n",
        "import time\n",
        "\n",
        "# Connect to Modbus client\n",
        "client = ModbusTcpClient('127.0.0.1')\n",
        "\n",
        "# Read input function\n",
        "def read_input(address):\n",
        "    result = client.read_holding_registers(address, 1)\n",
        "    return result.registers[0]\n",
        "\n",
        "# Write output function\n",
        "def write_output(address, value):\n",
        "    result = client.write_register(address, value)\n",
        "    print(f\"Successfully wrote {value} to address {address}\")\n",
        "\n",
        "# Function to control the crane according to JSON instructions\n",
        "def execute_commands_from_json(json_file):\n",
        "    with open(json_file, 'r') as file:\n",
        "        data = json.load(file)\n",
        "    df = pd.DataFrame(data['actions'])\n",
        "\n",
        "    for _, action in df.iterrows():\n",
        "        # Check for vacuum control\n",
        "        if 'vacuum' in action and not pd.isna(action['vacuum']):\n",
        "            write_output(3, int(action['vacuum']))  # Turn vacuum on/off\n",
        "\n",
        "        # Check and set X and Y positions\n",
        "        if 'setX' in action and not pd.isna(action['setX']) and 'setY' in action and not pd.isna(action['setY']):\n",
        "            x, y = int(action['setX']), int(action['setY'])\n",
        "            write_output(1, x)  # Set X position\n",
        "            write_output(2, y)  # Set Y position\n",
        "\n",
        "            # Wait until the crane reaches the target position\n",
        "            while read_input(15) != x or read_input(16) != y:\n",
        "                time.sleep(0.1)  # Small delay to avoid unnecessary CPU usage\n",
        "\n",
        "\n",
        "if __name__ == \"__main__\":\n",
        "    client.connect()\n",
        "    json_file = 'crane_commands.json'\n",
        "    execute_commands_from_json(json_file)\n",
        "    client.close()\n"
      ]
    },
    {
      "cell_type": "code",
      "source": [
        "\n",
        "  \"actions\": [\n",
        "    {\"vacuum\": 0},\n",
        "    {\"setX\": 55, \"setY\": 200},\n",
        "    {\"setX\": 55, \"setY\": 82},\n",
        "    {\"vacuum\": 1},\n",
        "    {\"setX\": 55, \"setY\": 200},\n",
        "    {\"setX\": 945, \"setY\": 200},\n",
        "    {\"setX\": 945, \"setY\": 82},\n",
        "    {\"vacuum\": 0},\n",
        "    {\"setX\": 945, \"setY\": 200}\n",
        "  ]\n",
        "}\n"
      ],
      "metadata": {
        "colab": {
          "base_uri": "https://localhost:8080/",
          "height": 106
        },
        "id": "BMybRbGfeN4k",
        "outputId": "10c7f250-e9a0-40ca-dbe5-f8589d33831a"
      },
      "execution_count": null,
      "outputs": [
        {
          "output_type": "error",
          "ename": "SyntaxError",
          "evalue": "unmatched '}' (<ipython-input-2-d6ca95f216a8>, line 12)",
          "traceback": [
            "\u001b[0;36m  File \u001b[0;32m\"<ipython-input-2-d6ca95f216a8>\"\u001b[0;36m, line \u001b[0;32m12\u001b[0m\n\u001b[0;31m    }\u001b[0m\n\u001b[0m    ^\u001b[0m\n\u001b[0;31mSyntaxError\u001b[0m\u001b[0;31m:\u001b[0m unmatched '}'\n"
          ]
        }
      ]
    },
    {
      "cell_type": "code",
      "source": [],
      "metadata": {
        "id": "Du2lCNxneOku"
      },
      "execution_count": null,
      "outputs": []
    }
  ]
}